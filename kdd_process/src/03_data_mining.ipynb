{
 "cells": [
  {
   "cell_type": "markdown",
   "metadata": {},
   "source": [
    "This step involves applying various data mining techniques to the transformed data to discover hidden patterns, trends, relationships, and insights. "
   ]
  },
  {
   "cell_type": "code",
   "execution_count": 1,
   "metadata": {},
   "outputs": [],
   "source": [
    "import utils\n",
    "import pandas as pd \n",
    "import matplotlib.pyplot as plt\n",
    "import warnings \n",
    "warnings.filterwarnings('ignore')\n",
    "from sklearn.linear_model import LogisticRegression\n",
    "from sklearn.ensemble import RandomForestClassifier\n",
    "from sklearn.svm import SVC\n",
    "from xgboost import XGBClassifier\n",
    "from sklearn.linear_model import LogisticRegression\n",
    "from sklearn.neighbors import KNeighborsClassifier\n",
    "from sklearn.tree import DecisionTreeClassifier\n",
    "from sklearn.neural_network import MLPClassifier\n",
    "from sklearn.model_selection import GridSearchCV\n",
    "from sklearn.model_selection import cross_val_score\n",
    "from sklearn.pipeline import Pipeline\n",
    "\n",
    "# Load data\n",
    "df: pd.DataFrame = utils.load_preprocessed_data()\n",
    "\n",
    "# split data into train and test\n",
    "X_train, X_test, y_train, y_test = utils.split_data(df)"
   ]
  },
  {
   "cell_type": "code",
   "execution_count": 12,
   "metadata": {},
   "outputs": [
    {
     "name": "stdout",
     "output_type": "stream",
     "text": [
      "LR: 0.892353 (0.022) \n",
      "SVC: 0.911176 (0.018) \n",
      "KNN: 0.904706 (0.015) \n",
      "DT: 0.919412 (0.023) \n",
      "RF: 0.945294 (0.012) \n",
      "XGB: 0.951765 (0.008) \n",
      "MLP: 0.927647 (0.016) \n"
     ]
    }
   ],
   "source": [
    "# Model selection process with pipeline of models\n",
    "# Create a pipeline\n",
    "pipeline_lr=Pipeline([('lr_classifier',LogisticRegression(random_state=0))])\n",
    "\n",
    "pipeline_svc=Pipeline([('svc_classifier',SVC(random_state=0))])\n",
    "\n",
    "pipeline_knn=Pipeline([('knn_classifier',KNeighborsClassifier())])\n",
    "\n",
    "pipeline_dt=Pipeline([ ('dt_classifier',DecisionTreeClassifier(random_state=0))])\n",
    "\n",
    "pipeline_rf=Pipeline([('rf_classifier',RandomForestClassifier(random_state=0))])\n",
    "\n",
    "pipeline_xgb=Pipeline([('xgb_classifier',XGBClassifier(random_state=0))])\n",
    "\n",
    "pipeline_mpl=Pipeline([('mpl_classifier',MLPClassifier(random_state=0))])\n",
    "\n",
    "# List of all the pipelines\n",
    "pipelines = [pipeline_lr, pipeline_svc, pipeline_knn, pipeline_dt, pipeline_rf, pipeline_xgb, pipeline_mpl]\n",
    "\n",
    "# Dictionary of pipelines and classifier types \n",
    "pipe_dict = {0: 'LR',\n",
    "            1: 'SVC',\n",
    "            2: 'KNN', \n",
    "            3: \"DT\",\n",
    "            4: \"RF\",\n",
    "            5: \"XGB\",\n",
    "            6: \"MLP\"\n",
    "            }\n",
    "\n",
    "\n",
    "# Fit the pipelines\n",
    "for pipe in pipelines:\n",
    "    pipe.fit(X_train, y_train)\n",
    "\n",
    "#cross validation on accuracy \n",
    "cv_results_accuracy = []\n",
    "for i, model in enumerate(pipelines):\n",
    "    \"\"\"\n",
    "    The cross_val_score() function will be used to perform the evaluation,\n",
    "    taking the training dataset and cross-validation configuration and returning\n",
    "    a list of scores calculated for each fold.\n",
    "    \"\"\"\n",
    "    cv_score = cross_val_score(model, X_train,y_train, cv=10 )\n",
    "    cv_results_accuracy.append(cv_score)\n",
    "    print(\"%s: %.3f (%.3f) \" % (pipe_dict[i], cv_score.mean(), cv_score.std()))"
   ]
  },
  {
   "cell_type": "code",
   "execution_count": 4,
   "metadata": {},
   "outputs": [
    {
     "data": {
      "image/png": "[encoded data removed]",
      "text/plain": [
       "<Figure size 1000x600 with 1 Axes>"
      ]
     },
     "metadata": {},
     "output_type": "display_data"
    }
   ],
   "source": [
    "# boxplot algorithm comparison\n",
    "utils.algorithm_comparison(cv_results_accuracy, pipe_dict)"
   ]
  },
  {
   "cell_type": "markdown",
   "metadata": {},
   "source": [
    "- Gradient Boosted Tree is the best performer among the executed models array. \n",
    "- Let's build XGBoost model with grid search cv hyperparameter optimization routine.\n"
   ]
  },
  {
   "cell_type": "code",
   "execution_count": 5,
   "metadata": {},
   "outputs": [
    {
     "name": "stdout",
     "output_type": "stream",
     "text": [
      "Best parameters:  {'xgb_classifier__colsample_bytree': 0.5, 'xgb_classifier__learning_rate': 0.05, 'xgb_classifier__max_depth': 5, 'xgb_classifier__min_child_weight': 1, 'xgb_classifier__n_estimators': 500, 'xgb_classifier__subsample': 0.7}\n",
      "Best score:  0.9558823529411764\n"
     ]
    }
   ],
   "source": [
    "# Model selection process with grid search hyperparameter tuning\n",
    "\n",
    "#Building a dictionary with a list of optional values that will be tested for each parameter of xgboost\n",
    "parameters = { \n",
    "    'xgb_classifier__max_depth': [3, 5, 7],\n",
    "    'xgb_classifier__min_child_weight':[1, 3, 5],\n",
    "    'xgb_classifier__subsample':[0.5, 0.7],\n",
    "    'xgb_classifier__colsample_bytree':[0.5, 0.7],\n",
    "    'xgb_classifier__n_estimators':[100, 200, 500],\n",
    "    'xgb_classifier__learning_rate': [0.01, 0.05, 0.1]\n",
    "}\n",
    "\n",
    "#Fitting the training set to find parameters with best accuracy\n",
    "grid_search = GridSearchCV(pipeline_xgb, parameters, n_jobs=-1, cv=10, scoring='accuracy')\n",
    "grid_search.fit(X_train, y_train)\n",
    "\n",
    "#Printing the best parameters\n",
    "print(\"Best parameters: \", grid_search.best_params_)\n",
    "\n",
    "#Printing the best accuracy\n",
    "print(\"Best score: \", grid_search.best_score_)"
   ]
  },
  {
   "cell_type": "code",
   "execution_count": 17,
   "metadata": {},
   "outputs": [],
   "source": [
    "xgb_classifier = XGBClassifier(**grid_search.best_params_)\n",
    "xgb_classifier.fit(X_train, y_train)\n",
    "\n",
    "# save model\n",
    "pd.to_pickle(xgb_classifier, '../artifacts/xgb_classifier.pkl')"
   ]
  }
 ],
 "metadata": {
  "kernelspec": {
   "display_name": "optimization_forecasting_env",
   "language": "python",
   "name": "python3"
  },
  "language_info": {
   "codemirror_mode": {
    "name": "ipython",
    "version": 3
   },
   "file_extension": ".py",
   "mimetype": "text/x-python",
   "name": "python",
   "nbconvert_exporter": "python",
   "pygments_lexer": "ipython3",
   "version": "3.9.18"
  }
 },
 "nbformat": 4,
 "nbformat_minor": 2
}
